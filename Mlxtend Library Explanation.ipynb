{
 "cells": [
  {
   "cell_type": "markdown",
   "metadata": {},
   "source": [
    "# Mlxtend for Regression model"
   ]
  },
  {
   "cell_type": "code",
   "execution_count": 1,
   "metadata": {},
   "outputs": [],
   "source": [
    "from mlxtend.evaluate import bias_variance_decomp\n",
    "from sklearn.tree import DecisionTreeClassifier\n",
    "from mlxtend.data import iris_data\n",
    "from sklearn.model_selection import train_test_split\n",
    "from sklearn.ensemble import RandomForestClassifier\n",
    "import pandas as pd\n",
    "import matplotlib.pyplot as plt\n",
    "import numpy as np\n",
    "from sklearn.linear_model import LinearRegression, Lasso\n",
    "from sklearn.neighbors import KNeighborsClassifier\n",
    "import warnings\n",
    "warnings.filterwarnings('ignore')"
   ]
  },
  {
   "cell_type": "code",
   "execution_count": 2,
   "metadata": {},
   "outputs": [
    {
     "name": "stdout",
     "output_type": "stream",
     "text": [
      "(506, 13)\n",
      "(506,)\n",
      "MSE from bias_variance lib [avg expected loss]: 22.219\n",
      "Avg Bias: 20.527\n",
      "Avg Variance: 1.692\n",
      "Mean Square error by Sckit-learn lib: 22.069\n"
     ]
    }
   ],
   "source": [
    "#We will load the Boston house dataset for our example\n",
    "from sklearn.datasets import load_boston\n",
    "from sklearn import metrics\n",
    "# From the library load the necessary rows & columns\n",
    "X, y = load_boston(return_X_y=True)\n",
    "print(X.shape)\n",
    "print(y.shape)\n",
    "# Split the dataset into train and test \n",
    "X_train, X_test, y_train, y_test = train_test_split(X, y, test_size=0.33, random_state=1)\n",
    "# Model definition\n",
    "model_lr = LinearRegression()\n",
    "# Estimation of bias and variance using bias_variance_decomp \n",
    "#Note here we are using loss as 'mse' and setting default bootstrap num_rounds to 200\n",
    "mse, bias, var = bias_variance_decomp(model_lr, X_train, y_train, X_test, y_test, loss='mse', num_rounds=200, random_seed=123)\n",
    "y_pred=model_lr.predict(X_test)\n",
    "# summarize results\n",
    "print('MSE from bias_variance lib [avg expected loss]: %.3f' % mse)\n",
    "print('Avg Bias: %.3f' % bias)\n",
    "print('Avg Variance: %.3f' % var)\n",
    "print('Mean Square error by Sckit-learn lib: %.3f' % metrics.mean_squared_error(y_test,y_pred))"
   ]
  },
  {
   "cell_type": "markdown",
   "metadata": {},
   "source": [
    "### Tuning the Linear Regression model\n",
    "\n"
   ]
  },
  {
   "cell_type": "code",
   "execution_count": 3,
   "metadata": {},
   "outputs": [
    {
     "name": "stdout",
     "output_type": "stream",
     "text": [
      "MSE from bias_variance lib [avg expected loss]: 22.141\n",
      "Avg Bias: 20.415\n",
      "Avg Variance: 1.726\n",
      "Mean Square error by Sckit-learn lib: 22.069\n"
     ]
    }
   ],
   "source": [
    "lasso_model = Lasso(alpha=0.05)\n",
    "error_reg_las, bias_reg_las, var_reg_las = bias_variance_decomp(lasso_model, X_train, y_train, X_test, y_test, loss='mse', random_seed=123)\n",
    "print('MSE from bias_variance lib [avg expected loss]: %.3f' % error_reg_las)\n",
    "print('Avg Bias: %.3f' % bias_reg_las)\n",
    "print('Avg Variance: %.3f' % var_reg_las)\n",
    "print('Mean Square error by Sckit-learn lib: %.3f' % metrics.mean_squared_error(y_test,y_pred))"
   ]
  },
  {
   "cell_type": "markdown",
   "metadata": {},
   "source": [
    "# Mlxtend for Classification model"
   ]
  },
  {
   "cell_type": "code",
   "execution_count": 4,
   "metadata": {},
   "outputs": [],
   "source": [
    "#Let us consider Iris dataset to calculate the bias vs variance\n",
    "from sklearn.metrics import zero_one_loss\n",
    "X, y = iris_data()\n",
    "X_train, X_test, y_train, y_test = train_test_split(X, y,\n",
    "                                                    test_size=0.3,\n",
    "                                                    random_state=123,\n",
    "                                                    shuffle=True,\n",
    "                                                    stratify=y)\n"
   ]
  },
  {
   "cell_type": "markdown",
   "metadata": {},
   "source": [
    "###  Logistic Regression"
   ]
  },
  {
   "cell_type": "code",
   "execution_count": 5,
   "metadata": {},
   "outputs": [
    {
     "name": "stdout",
     "output_type": "stream",
     "text": [
      "Average expected loss: 0.034\n",
      "Average bias: 0.022\n",
      "Average variance: 0.016\n"
     ]
    }
   ],
   "source": [
    "from sklearn.linear_model import LogisticRegression\n",
    "clf_logit = LogisticRegression()\n",
    "\n",
    "#Note here we have changed the loss to '0-1 loss'\n",
    "avg_expected_loss, avg_bias, avg_var = bias_variance_decomp(\n",
    "        clf_logit, X_train, y_train, X_test, y_test, \n",
    "        loss='0-1_loss',\n",
    "        random_seed=123)\n",
    "\n",
    "print('Average expected loss: %.3f' % avg_expected_loss)\n",
    "print('Average bias: %.3f' % avg_bias)\n",
    "print('Average variance: %.3f' % avg_var)\n"
   ]
  },
  {
   "cell_type": "markdown",
   "metadata": {},
   "source": [
    "### Decision Tree Classifier"
   ]
  },
  {
   "cell_type": "code",
   "execution_count": 6,
   "metadata": {},
   "outputs": [
    {
     "name": "stdout",
     "output_type": "stream",
     "text": [
      "Average expected loss: 0.062\n",
      "Average bias: 0.022\n",
      "Average variance: 0.040\n",
      "Sklearn 0-1 loss: 0.133\n",
      "Average expected loss--After pruning: 0.060\n",
      "Average bias--After pruning: 0.022\n",
      "Average variance--After pruning: 0.038\n",
      "Sklearn 0-1 loss--After pruning: 0.089\n"
     ]
    }
   ],
   "source": [
    "\n",
    "clf_dt = DecisionTreeClassifier(random_state=123)\n",
    "clf_dt.fit(X_train,y_train)\n",
    "y_pred=clf_dt.predict(X_test)\n",
    "\n",
    "avg_expected_loss, avg_bias, avg_var = bias_variance_decomp(\n",
    "        clf_dt, X_train, y_train, X_test, y_test, \n",
    "        loss='0-1_loss',\n",
    "        random_seed=123)\n",
    "\n",
    "print('Average expected loss: %.3f' % avg_expected_loss)\n",
    "print('Average bias: %.3f' % avg_bias)\n",
    "print('Average variance: %.3f' % avg_var)\n",
    "print('Sklearn 0-1 loss: %.3f' % zero_one_loss(y_test,y_pred))\n",
    "\n",
    "\n",
    "### After Pruning ###\n",
    "clf_dt_prnd = DecisionTreeClassifier(criterion='gini', max_depth=3, random_state=123)\n",
    "clf_dt_prnd.fit(X_train,y_train)\n",
    "y_pred=clf_dt_prnd.predict(X_test)\n",
    "\n",
    "avg_expected_loss, avg_bias, avg_var = bias_variance_decomp(\n",
    "        clf_dt_prnd, X_train, y_train, X_test, y_test, \n",
    "        loss='0-1_loss',\n",
    "        random_seed=123)\n",
    "\n",
    "print('Average expected loss--After pruning: %.3f' % avg_expected_loss)\n",
    "print('Average bias--After pruning: %.3f' % avg_bias)\n",
    "print('Average variance--After pruning: %.3f' % avg_var)\n",
    "print('Sklearn 0-1 loss--After pruning: %.3f' % zero_one_loss(y_test,y_pred))"
   ]
  },
  {
   "cell_type": "markdown",
   "metadata": {},
   "source": [
    "### Random Forest Classifer\n"
   ]
  },
  {
   "cell_type": "code",
   "execution_count": 7,
   "metadata": {},
   "outputs": [
    {
     "name": "stdout",
     "output_type": "stream",
     "text": [
      "Average expected loss: 0.045\n",
      "Average bias: 0.022\n",
      "Average variance: 0.023\n",
      "Sklearn 0-1 loss: 0.022\n"
     ]
    }
   ],
   "source": [
    "\n",
    "clf_RF = RandomForestClassifier(max_depth=2, random_state=0)\n",
    "clf_RF.fit(X_train,y_train)\n",
    "y_pred=clf_RF.predict(X_test)\n",
    "\n",
    "avg_expected_loss, avg_bias, avg_var = bias_variance_decomp(\n",
    "        clf_RF, X_train, y_train, X_test, y_test, \n",
    "        loss='0-1_loss',\n",
    "        random_seed=123)\n",
    "\n",
    "print('Average expected loss: %.3f' % avg_expected_loss)\n",
    "print('Average bias: %.3f' % avg_bias)\n",
    "print('Average variance: %.3f' % avg_var)\n",
    "print('Sklearn 0-1 loss: %.3f' % zero_one_loss(y_test,y_pred))"
   ]
  },
  {
   "cell_type": "markdown",
   "metadata": {},
   "source": [
    "#### To derive some implications usin KNN Classifier"
   ]
  },
  {
   "cell_type": "code",
   "execution_count": 8,
   "metadata": {},
   "outputs": [
    {
     "name": "stdout",
     "output_type": "stream",
     "text": [
      "Average expected loss: 0.057\n",
      "Average bias: 0.044\n",
      "Average variance: 0.035\n",
      "Sklearn 0-1 loss: 0.044\n"
     ]
    }
   ],
   "source": [
    "from sklearn.metrics import zero_one_loss\n",
    "from sklearn.neighbors import KNeighborsClassifier\n",
    "clf_knn = KNeighborsClassifier(n_neighbors=3)\n",
    "clf_knn.fit(X_train,y_train)\n",
    "y_pred=clf_knn.predict(X_test)\n",
    "\n",
    "\n",
    "avg_expected_loss, avg_bias, avg_var = bias_variance_decomp(\n",
    "        clf_knn, X_train, y_train, X_test, y_test, \n",
    "        loss='0-1_loss',\n",
    "        random_seed=123)\n",
    "\n",
    "print('Average expected loss: %.3f' % avg_expected_loss)\n",
    "print('Average bias: %.3f' % avg_bias)\n",
    "print('Average variance: %.3f' % avg_var)\n",
    "print('Sklearn 0-1 loss: %.3f' % zero_one_loss(y_test,y_pred))"
   ]
  },
  {
   "cell_type": "code",
   "execution_count": 9,
   "metadata": {},
   "outputs": [
    {
     "name": "stdout",
     "output_type": "stream",
     "text": [
      "Average expected loss 0.05233333333333332\n",
      "Average bias 0.044444444444444446\n",
      "Average variance 0.03588888888888889\n",
      "Average expected loss 0.057111111111111106\n",
      "Average bias 0.044444444444444446\n",
      "Average variance 0.034666666666666665\n",
      "Average expected loss 0.05266666666666666\n",
      "Average bias 0.06666666666666667\n",
      "Average variance 0.04288888888888889\n",
      "Average expected loss 0.05533333333333333\n",
      "Average bias 0.044444444444444446\n",
      "Average variance 0.033555555555555554\n",
      "Average expected loss 0.05144444444444444\n",
      "Average bias 0.06666666666666667\n",
      "Average variance 0.04366666666666667\n",
      "Average expected loss 0.050444444444444445\n",
      "Average bias 0.044444444444444446\n",
      "Average variance 0.030888888888888893\n",
      "Average expected loss 0.04622222222222222\n",
      "Average bias 0.022222222222222223\n",
      "Average variance 0.04022222222222222\n",
      "Average expected loss 0.047444444444444435\n",
      "Average bias 0.044444444444444446\n",
      "Average variance 0.03166666666666667\n"
     ]
    },
    {
     "data": {
      "text/plain": [
       "<matplotlib.legend.Legend at 0xd3eeb7e6d8>"
      ]
     },
     "execution_count": 9,
     "metadata": {},
     "output_type": "execute_result"
    },
    {
     "data": {
      "image/png": "[encoded data removed]",
      "text/plain": [
       "<Figure size 432x288 with 1 Axes>"
      ]
     },
     "metadata": {
      "needs_background": "light"
     },
     "output_type": "display_data"
    }
   ],
   "source": [
    "bias_KnnClass, var_KnnClass,error_KnnClass, = [], [], []\n",
    "for k in range(2, 10):\n",
    "    clf_knn = KNeighborsClassifier(n_neighbors=k)\n",
    "    avg_expected_loss, avg_bias, avg_var = bias_variance_decomp(clf_knn, X_train, y_train, X_test, y_test, loss='0-1_loss', random_seed=123)\n",
    "    bias_KnnClass.append(avg_bias)\n",
    "    var_KnnClass.append(avg_var)\n",
    "    error_KnnClass.append(avg_expected_loss)\n",
    "    print(f\"Average expected loss {avg_expected_loss}\")\n",
    "    print(f\"Average bias {avg_bias}\")\n",
    "    print(f\"Average variance {avg_var}\")\n",
    "plt.plot(range(2, 10), error_KnnClass, 'red', label = 'total_error',linestyle='dashed')\n",
    "plt.plot(range(2, 10), bias_KnnClass, 'brown', label = 'bias^2')\n",
    "plt.plot(range(2, 10), var_KnnClass, 'yellow', label = 'variance')\n",
    "plt.xlabel('Algorithm Complexity(K)')\n",
    "plt.ylabel('Error')\n",
    "plt.legend()"
   ]
  },
  {
   "cell_type": "code",
   "execution_count": null,
   "metadata": {},
   "outputs": [],
   "source": []
  }
 ],
 "metadata": {
  "kernelspec": {
   "display_name": "Python 3",
   "language": "python",
   "name": "python3"
  },
  "language_info": {
   "codemirror_mode": {
    "name": "ipython",
    "version": 3
   },
   "file_extension": ".py",
   "mimetype": "text/x-python",
   "name": "python",
   "nbconvert_exporter": "python",
   "pygments_lexer": "ipython3",
   "version": "3.6.10"
  }
 },
 "nbformat": 4,
 "nbformat_minor": 4
}
